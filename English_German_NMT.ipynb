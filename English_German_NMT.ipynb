{
 "cells": [
  {
   "cell_type": "markdown",
   "metadata": {
    "id": "LC2JMMDJAOPP"
   },
   "source": [
    "## Neural Machine Translation for German-English on the Multi30K dataset"
   ]
  },
  {
   "cell_type": "markdown",
   "metadata": {
    "id": "DwysEfH6AOPR"
   },
   "source": [
    "Multi30K is a dataset to stimulate multilingual multimodal research for English-German. It is based on the Flickr30k dataset, which contains 31,014 images sourced from online photo-sharing websites. Each image is paired with five English descriptions, which were collected from Amazon Mechanical Turk. The dataset contains 145,000 training, 5,070 development, and 5,000 test descriptions. The Multi30K dataset extends the Flickr30K dataset with translated and independent German sentences.\n",
    "\n",
    "The baseline score is a Seq2Seq model with LSTM. Three approaches are then implemented to improve the translation quality:\n",
    "* Learning rate decay\n",
    "* Using CNN as encoder\n",
    "* Using pre-trained word embedding\n",
    "\n",
    "Translation quality is evaluated by BLEU score.\n",
    "\n",
    "This notebook is based on the assignment from the course \"Deep Learning in Applications\" at Harbour.Space University."
   ]
  },
  {
   "cell_type": "code",
   "execution_count": 2,
   "metadata": {
    "id": "8M2Iq7ceAOPS"
   },
   "outputs": [],
   "source": [
    "import os"
   ]
  },
  {
   "cell_type": "code",
   "execution_count": 16,
   "metadata": {
    "id": "lZmI9QPtAOPS"
   },
   "outputs": [],
   "source": [
    "import torch\n",
    "import torch.nn as nn\n",
    "import torch.optim as optim\n",
    "\n",
    "import torchtext\n",
    "from torchtext.legacy.datasets import TranslationDataset, Multi30k\n",
    "from torchtext.legacy.data import Field, BucketIterator\n",
    "\n",
    "import spacy\n",
    "\n",
    "import random\n",
    "import math\n",
    "import time\n",
    "\n",
    "import matplotlib\n",
    "matplotlib.rcParams.update({'figure.figsize': (16, 12), 'font.size': 14})\n",
    "import matplotlib.pyplot as plt\n",
    "%matplotlib inline\n",
    "from IPython.display import clear_output\n",
    "\n",
    "from nltk.tokenize import WordPunctTokenizer\n",
    "from subword_nmt.learn_bpe import learn_bpe\n",
    "from subword_nmt.apply_bpe import BPE\n"
   ]
  },
  {
   "cell_type": "markdown",
   "metadata": {
    "id": "_qb5kfRaAOPS"
   },
   "source": [
    "### Data processing"
   ]
  },
  {
   "cell_type": "code",
   "execution_count": 17,
   "metadata": {
    "id": "kuXOULCJAOPS"
   },
   "outputs": [],
   "source": [
    "tokenizer_W = WordPunctTokenizer()\n",
    "def tokenize(x, tokenizer=tokenizer_W):\n",
    "    return tokenizer.tokenize(x.lower())"
   ]
  },
  {
   "cell_type": "code",
   "execution_count": 18,
   "metadata": {
    "id": "V4g4sErbAOPT"
   },
   "outputs": [],
   "source": [
    "SRC = Field(tokenize=tokenize,\n",
    "            init_token = '<sos>', \n",
    "            eos_token = '<eos>', \n",
    "            lower = True)\n",
    "\n",
    "TRG = Field(tokenize=tokenize,\n",
    "            init_token = '<sos>', \n",
    "            eos_token = '<eos>', \n",
    "            lower = True)"
   ]
  },
  {
   "cell_type": "code",
   "execution_count": 19,
   "metadata": {
    "id": "ANO8W-mtAOPT"
   },
   "outputs": [
    {
     "name": "stdout",
     "output_type": "stream",
     "text": [
      "downloading training.tar.gz\n"
     ]
    },
    {
     "name": "stderr",
     "output_type": "stream",
     "text": [
      "training.tar.gz: 100%|██████████████████████| 1.21M/1.21M [00:08<00:00, 136kB/s]\n"
     ]
    },
    {
     "name": "stdout",
     "output_type": "stream",
     "text": [
      "downloading validation.tar.gz\n"
     ]
    },
    {
     "name": "stderr",
     "output_type": "stream",
     "text": [
      "validation.tar.gz: 100%|███████████████████| 46.3k/46.3k [00:00<00:00, 60.7kB/s]\n"
     ]
    },
    {
     "name": "stdout",
     "output_type": "stream",
     "text": [
      "downloading mmt_task1_test2016.tar.gz\n"
     ]
    },
    {
     "name": "stderr",
     "output_type": "stream",
     "text": [
      "mmt_task1_test2016.tar.gz: 100%|███████████| 66.2k/66.2k [00:01<00:00, 54.5kB/s]\n"
     ]
    }
   ],
   "source": [
    "train_data, valid_data, test_data = Multi30k.splits(exts=('.de', '.en'),\n",
    "                                                   fields=(SRC, TRG))"
   ]
  },
  {
   "cell_type": "code",
   "execution_count": 20,
   "metadata": {
    "colab": {
     "base_uri": "https://localhost:8080/"
    },
    "id": "PV6Jzdg_AOPU",
    "outputId": "c43fd231-9fa2-4e50-bb37-f6aadfd58fb2"
   },
   "outputs": [
    {
     "name": "stdout",
     "output_type": "stream",
     "text": [
      "Number of training examples: 29000\n",
      "Number of validation examples: 1014\n",
      "Number of testing examples: 1000\n"
     ]
    }
   ],
   "source": [
    "print(f\"Number of training examples: {len(train_data.examples)}\")\n",
    "print(f\"Number of validation examples: {len(valid_data.examples)}\")\n",
    "print(f\"Number of testing examples: {len(test_data.examples)}\")"
   ]
  },
  {
   "cell_type": "markdown",
   "metadata": {
    "id": "Fq-bDNvGAOPU"
   },
   "source": [
    "We'll only keep the tokens that occur minimum 5 times."
   ]
  },
  {
   "cell_type": "code",
   "execution_count": 21,
   "metadata": {
    "id": "RNzMzokRAOPU"
   },
   "outputs": [],
   "source": [
    "MIN_FREQ_SRC = 5\n",
    "MIN_FREQ_TRG = 5"
   ]
  },
  {
   "cell_type": "code",
   "execution_count": 22,
   "metadata": {
    "id": "kWPmIktzAOPU"
   },
   "outputs": [],
   "source": [
    "SRC.build_vocab(train_data, min_freq = MIN_FREQ_SRC)\n",
    "TRG.build_vocab(train_data, min_freq = MIN_FREQ_TRG)"
   ]
  },
  {
   "cell_type": "code",
   "execution_count": 23,
   "metadata": {
    "colab": {
     "base_uri": "https://localhost:8080/"
    },
    "id": "MR8z7yG6AOPU",
    "outputId": "496e7265-8b1e-47ad-acd4-9b49515833a5"
   },
   "outputs": [
    {
     "name": "stdout",
     "output_type": "stream",
     "text": [
      "Unique tokens in source vocabulary: 3591\n",
      "Unique tokens in target (EN) vocabulary: 3274\n"
     ]
    }
   ],
   "source": [
    "print(f\"Unique tokens in source vocabulary: {len(SRC.vocab)}\")\n",
    "print(f\"Unique tokens in target (EN) vocabulary: {len(TRG.vocab)}\")"
   ]
  },
  {
   "cell_type": "markdown",
   "metadata": {
    "id": "fxzLCJpbAOPU"
   },
   "source": [
    "Here are some tokens from original corpus (DE):"
   ]
  },
  {
   "cell_type": "code",
   "execution_count": 24,
   "metadata": {
    "colab": {
     "base_uri": "https://localhost:8080/"
    },
    "id": "m8PjBcnKAOPV",
    "outputId": "05528c5b-de89-46b2-b3d2-92a7e54e9f37"
   },
   "outputs": [
    {
     "data": {
      "text/plain": [
       "['<unk>',\n",
       " 'gelben',\n",
       " 'sonnenbrille',\n",
       " 'ihrer',\n",
       " 'alte',\n",
       " 'führen',\n",
       " 'computer',\n",
       " 'fahrrädern',\n",
       " 'hula',\n",
       " 'dunkelhäutige',\n",
       " 'sitzender',\n",
       " 'becher',\n",
       " 'ich',\n",
       " 'kariertem',\n",
       " 'fahne',\n",
       " 'näht',\n",
       " 'ruhigen',\n",
       " 'ansieht',\n",
       " 'welpe',\n",
       " 'serviert',\n",
       " 'krankenhaus',\n",
       " 'beachvolleyball',\n",
       " 'musikinstrumente',\n",
       " 'betonmauer',\n",
       " 'of',\n",
       " 'zuhause',\n",
       " 'habseligkeiten',\n",
       " 'regnet',\n",
       " 'aquarium',\n",
       " 'gehoben',\n",
       " 'nachtclub',\n",
       " 'trenchcoat',\n",
       " 'bergsteigen',\n",
       " 'großem',\n",
       " 'müde',\n",
       " 'sprache']"
      ]
     },
     "execution_count": 24,
     "metadata": {},
     "output_type": "execute_result"
    }
   ],
   "source": [
    "SRC.vocab.itos[::100]"
   ]
  },
  {
   "cell_type": "markdown",
   "metadata": {
    "id": "PJTr7B9EAOPV"
   },
   "source": [
    "From target (EN) corpus:"
   ]
  },
  {
   "cell_type": "code",
   "execution_count": 25,
   "metadata": {
    "colab": {
     "base_uri": "https://localhost:8080/"
    },
    "id": "z1BrsHu4AOPV",
    "outputId": "fde0009d-f236-4093-fffc-167cfccbfa2b"
   },
   "outputs": [
    {
     "data": {
      "text/plain": [
       "['<unk>',\n",
       " 'under',\n",
       " 'parade',\n",
       " 'drinks',\n",
       " 'catching',\n",
       " 'pot',\n",
       " 'obstacle',\n",
       " '!',\n",
       " 'teammate',\n",
       " 'loom',\n",
       " 'cop',\n",
       " 'rifle',\n",
       " 'too',\n",
       " 'squats',\n",
       " 'overlook',\n",
       " 'comforting',\n",
       " 'smooth']"
      ]
     },
     "execution_count": 25,
     "metadata": {},
     "output_type": "execute_result"
    }
   ],
   "source": [
    "TRG.vocab.itos[::200]"
   ]
  },
  {
   "cell_type": "markdown",
   "metadata": {
    "id": "Okjb_dd8AOPV"
   },
   "source": [
    "Some examples from the train dataset:"
   ]
  },
  {
   "cell_type": "code",
   "execution_count": 26,
   "metadata": {
    "colab": {
     "base_uri": "https://localhost:8080/"
    },
    "id": "jDr6UTFAAOPV",
    "outputId": "5d4ffb00-590c-4c54-ccdf-85ee4317b2b0"
   },
   "outputs": [
    {
     "name": "stdout",
     "output_type": "stream",
     "text": [
      "{'src': ['jungen', 'tanzen', 'mitten', 'in', 'der', 'nacht', 'auf', 'pfosten', '.'], 'trg': ['boys', 'dancing', 'on', 'poles', 'in', 'the', 'middle', 'of', 'the', 'night', '.']}\n"
     ]
    }
   ],
   "source": [
    "print(vars(train_data.examples[9]))"
   ]
  },
  {
   "cell_type": "markdown",
   "metadata": {
    "id": "w4z5SoeRAOPV"
   },
   "source": [
    "Let's check the length distributions:"
   ]
  },
  {
   "cell_type": "code",
   "execution_count": 27,
   "metadata": {
    "colab": {
     "base_uri": "https://localhost:8080/",
     "height": 298
    },
    "id": "S8HGqlY0AOPV",
    "outputId": "528c5ea7-7c0d-4594-cfbb-458833e3d329"
   },
   "outputs": [
    {
     "name": "stdout",
     "output_type": "stream",
     "text": [
      "Length distribution in Train data\n"
     ]
    },
    {
     "data": {
      "image/png": "[encoded data removed]",
      "text/plain": [
       "<Figure size 576x288 with 2 Axes>"
      ]
     },
     "metadata": {
      "needs_background": "light"
     },
     "output_type": "display_data"
    }
   ],
   "source": [
    "src_length = map(len, [vars(x)['src'] for x in train_data.examples])\n",
    "trg_length = map(len, [vars(x)['trg'] for x in train_data.examples])\n",
    "\n",
    "print('Length distribution in Train data')\n",
    "plt.figure(figsize=[8, 4])\n",
    "plt.subplot(1, 2, 1)\n",
    "plt.title(\"source length\")\n",
    "plt.hist(list(src_length), bins=20);\n",
    "\n",
    "plt.subplot(1, 2, 2)\n",
    "plt.title(\"translation length\")\n",
    "plt.hist(list(trg_length), bins=20);"
   ]
  },
  {
   "cell_type": "code",
   "execution_count": 28,
   "metadata": {
    "colab": {
     "base_uri": "https://localhost:8080/",
     "height": 298
    },
    "id": "4cHfMH9SAOPV",
    "outputId": "3cfaa5a6-c578-46f5-cfaa-f2f7e78ba021"
   },
   "outputs": [
    {
     "name": "stdout",
     "output_type": "stream",
     "text": [
      "Length distribution in Test data\n"
     ]
    },
    {
     "data": {
      "image/png": "[encoded data removed]",
      "text/plain": [
       "<Figure size 576x288 with 2 Axes>"
      ]
     },
     "metadata": {
      "needs_background": "light"
     },
     "output_type": "display_data"
    }
   ],
   "source": [
    "src_length = map(len, [vars(x)['src'] for x in test_data.examples])\n",
    "trg_length = map(len, [vars(x)['trg'] for x in test_data.examples])\n",
    "\n",
    "print('Length distribution in Test data')\n",
    "plt.figure(figsize=[8, 4])\n",
    "plt.subplot(1, 2, 1)\n",
    "plt.title(\"source length\")\n",
    "plt.hist(list(src_length), bins=20);\n",
    "\n",
    "plt.subplot(1, 2, 2)\n",
    "plt.title(\"translation length\")\n",
    "plt.hist(list(trg_length), bins=20);"
   ]
  },
  {
   "cell_type": "markdown",
   "metadata": {
    "id": "GxhNR6ZrAOPV"
   },
   "source": [
    "## Building the baseline model"
   ]
  },
  {
   "cell_type": "code",
   "execution_count": 31,
   "metadata": {
    "id": "bmwh6rW9AOPW"
   },
   "outputs": [],
   "source": [
    "device = torch.device('cuda:0' if torch.cuda.is_available() else 'cpu')"
   ]
  },
  {
   "cell_type": "code",
   "execution_count": 32,
   "metadata": {
    "colab": {
     "base_uri": "https://localhost:8080/"
    },
    "id": "0lTqwXlAAOPW",
    "outputId": "a1ef2177-bb56-42a5-be6a-38ab481fe438"
   },
   "outputs": [
    {
     "data": {
      "text/plain": [
       "device(type='cpu')"
      ]
     },
     "execution_count": 32,
     "metadata": {},
     "output_type": "execute_result"
    }
   ],
   "source": [
    "device"
   ]
  },
  {
   "cell_type": "code",
   "execution_count": null,
   "metadata": {
    "id": "ebUEbnS_AOPW"
   },
   "outputs": [],
   "source": [
    "def _len_sort_key(x):\n",
    "    return len(x.src)\n",
    "\n",
    "BATCH_SIZE = 256\n",
    "\n",
    "train_iterator, valid_iterator, test_iterator = BucketIterator.splits(\n",
    "    (train_data, valid_data, test_data), \n",
    "    batch_size = BATCH_SIZE, \n",
    "    device = device,\n",
    "    sort_key=_len_sort_key\n",
    ")"
   ]
  },
  {
   "cell_type": "code",
   "execution_count": null,
   "metadata": {
    "colab": {
     "base_uri": "https://localhost:8080/"
    },
    "id": "rchLhjnnAOPW",
    "outputId": "cced4fa8-39a2-47b4-dad9-b45618c83cf1"
   },
   "outputs": [
    {
     "name": "stdout",
     "output_type": "stream",
     "text": [
      "\n",
      "[torchtext.legacy.data.batch.Batch of size 256 from MULTI30K]\n",
      "\t[.src]:[torch.cuda.LongTensor of size 31x256 (GPU 0)]\n",
      "\t[.trg]:[torch.cuda.LongTensor of size 31x256 (GPU 0)]\n",
      "torch.Size([31, 256]) torch.Size([31, 256])\n"
     ]
    }
   ],
   "source": [
    "for x in train_iterator:\n",
    "    break\n",
    "print(x)\n",
    "print(x.src.shape, x.trg.shape)"
   ]
  },
  {
   "cell_type": "code",
   "execution_count": 29,
   "metadata": {
    "id": "AmSHxzDJAOPW"
   },
   "outputs": [],
   "source": [
    "import my_network\n",
    "Encoder = my_network.Encoder\n",
    "Decoder = my_network.Decoder\n",
    "Seq2Seq = my_network.Seq2Seq"
   ]
  },
  {
   "cell_type": "code",
   "execution_count": 33,
   "metadata": {
    "id": "3xNfPSs7AOPW"
   },
   "outputs": [],
   "source": [
    "INPUT_DIM = len(SRC.vocab)\n",
    "OUTPUT_DIM = len(TRG.vocab)\n",
    "ENC_EMB_DIM = 256\n",
    "DEC_EMB_DIM = 256\n",
    "HID_DIM = 512\n",
    "N_LAYERS = 2\n",
    "ENC_DROPOUT = 0.5\n",
    "DEC_DROPOUT = 0.5\n",
    "\n",
    "enc = Encoder(INPUT_DIM, ENC_EMB_DIM, HID_DIM, N_LAYERS, ENC_DROPOUT)\n",
    "dec = Decoder(OUTPUT_DIM, DEC_EMB_DIM, HID_DIM, N_LAYERS, DEC_DROPOUT)\n",
    "\n",
    "# dont forget to put the model to the right device\n",
    "model = Seq2Seq(enc, dec, device).to(device)"
   ]
  },
  {
   "cell_type": "code",
   "execution_count": 34,
   "metadata": {
    "colab": {
     "base_uri": "https://localhost:8080/"
    },
    "id": "_pTnPBt6AOPW",
    "outputId": "219b79ad-3dd1-4710-c2b3-fe492ac7dc0b"
   },
   "outputs": [
    {
     "data": {
      "text/plain": [
       "Seq2Seq(\n",
       "  (encoder): Encoder(\n",
       "    (embedding): Embedding(3591, 256)\n",
       "    (rnn): LSTM(256, 512, num_layers=2, dropout=0.5)\n",
       "    (dropout): Dropout(p=0.5, inplace=False)\n",
       "  )\n",
       "  (decoder): Decoder(\n",
       "    (embedding): Embedding(3274, 256)\n",
       "    (rnn): LSTM(256, 512, num_layers=2, dropout=0.5)\n",
       "    (out): Linear(in_features=512, out_features=3274, bias=True)\n",
       "    (dropout): Dropout(p=0.5, inplace=False)\n",
       "  )\n",
       ")"
      ]
     },
     "execution_count": 34,
     "metadata": {},
     "output_type": "execute_result"
    }
   ],
   "source": [
    "def init_weights(m):\n",
    "    # <YOUR CODE HERE>\n",
    "    for name, param in m.named_parameters():\n",
    "        nn.init.uniform_(param, -0.08, 0.08)\n",
    "        \n",
    "model.apply(init_weights)"
   ]
  },
  {
   "cell_type": "code",
   "execution_count": 35,
   "metadata": {
    "colab": {
     "base_uri": "https://localhost:8080/"
    },
    "id": "ajvY_H_oAOPW",
    "outputId": "b3df4c7c-f5c6-431c-d710-8af360775467"
   },
   "outputs": [
    {
     "name": "stdout",
     "output_type": "stream",
     "text": [
      "The model has 10,793,418 trainable parameters\n"
     ]
    }
   ],
   "source": [
    "def count_parameters(model):\n",
    "    return sum(p.numel() for p in model.parameters() if p.requires_grad)\n",
    "\n",
    "print(f'The model has {count_parameters(model):,} trainable parameters')"
   ]
  },
  {
   "cell_type": "code",
   "execution_count": null,
   "metadata": {
    "id": "U3IKxB-6AOPW"
   },
   "outputs": [],
   "source": [
    "PAD_IDX = TRG.vocab.stoi['<pad>']\n",
    "optimizer = optim.Adam(model.parameters())\n",
    "criterion = nn.CrossEntropyLoss(ignore_index = PAD_IDX)"
   ]
  },
  {
   "cell_type": "code",
   "execution_count": null,
   "metadata": {
    "id": "ZgPX4xdeAOPX"
   },
   "outputs": [],
   "source": [
    "def train(model, iterator, optimizer, criterion, clip, train_history=None, valid_history=None):\n",
    "    model.train()\n",
    "    \n",
    "    epoch_loss = 0\n",
    "    history = []\n",
    "    for i, batch in enumerate(iterator):\n",
    "        \n",
    "        src = batch.src\n",
    "        trg = batch.trg\n",
    "        \n",
    "        optimizer.zero_grad()\n",
    "        \n",
    "        output = model(src, trg)\n",
    "        \n",
    "        #trg = [trg sent len, batch size]\n",
    "        #output = [trg sent len, batch size, output dim]\n",
    "        \n",
    "        output = output[1:].view(-1, output.shape[-1])\n",
    "        trg = trg[1:].view(-1)\n",
    "        \n",
    "        #trg = [(trg sent len - 1) * batch size]\n",
    "        #output = [(trg sent len - 1) * batch size, output dim]\n",
    "        \n",
    "        loss = criterion(output, trg)\n",
    "        \n",
    "        loss.backward()\n",
    "        \n",
    "        # Let's clip the gradient\n",
    "        torch.nn.utils.clip_grad_norm_(model.parameters(), clip)\n",
    "        \n",
    "        optimizer.step()\n",
    "        \n",
    "        epoch_loss += loss.item()\n",
    "        \n",
    "        history.append(loss.cpu().data.numpy())\n",
    "        if (i+1)%10==0:\n",
    "            fig, ax = plt.subplots(nrows=1, ncols=2, figsize=(12, 8))\n",
    "\n",
    "            clear_output(True)\n",
    "            ax[0].plot(history, label='train loss')\n",
    "            ax[0].set_xlabel('Batch')\n",
    "            ax[0].set_title('Train loss')\n",
    "            if valid_history is not None:\n",
    "                ax[1].plot(valid_history, label='general valid history')\n",
    "                ax[1].set_xlabel('Epoch')\n",
    "                ax[1].set_title('Validation BLEU')\n",
    "            # if train_history is not None:\n",
    "            #     ax[1].plot(train_history, label='general train history')\n",
    "            plt.legend()\n",
    "            \n",
    "            plt.show()\n",
    "\n",
    "        \n",
    "    return epoch_loss / len(iterator)"
   ]
  },
  {
   "cell_type": "code",
   "execution_count": null,
   "metadata": {
    "id": "3wDzvluBAOPX"
   },
   "outputs": [],
   "source": [
    "def evaluate(model, iterator, criterion):\n",
    "    \n",
    "    model.eval()\n",
    "    \n",
    "    epoch_loss = 0\n",
    "    \n",
    "    history = []\n",
    "    \n",
    "    with torch.no_grad():\n",
    "    \n",
    "        for i, batch in enumerate(iterator):\n",
    "\n",
    "            src = batch.src\n",
    "            trg = batch.trg\n",
    "\n",
    "            output = model(src, trg, 0) #turn off teacher forcing\n",
    "\n",
    "            #trg = [trg sent len, batch size]\n",
    "            #output = [trg sent len, batch size, output dim]\n",
    "\n",
    "            output = output[1:].view(-1, output.shape[-1])\n",
    "            trg = trg[1:].view(-1)\n",
    "\n",
    "            #trg = [(trg sent len - 1) * batch size]\n",
    "            #output = [(trg sent len - 1) * batch size, output dim]\n",
    "\n",
    "            loss = criterion(output, trg)\n",
    "            \n",
    "            epoch_loss += loss.item()\n",
    "        \n",
    "    return epoch_loss / len(iterator)"
   ]
  },
  {
   "cell_type": "code",
   "execution_count": null,
   "metadata": {
    "id": "ZBTwXCboiLa4"
   },
   "outputs": [],
   "source": [
    "def evaluateBLEU(model, iterator):\n",
    "    from nltk.translate.bleu_score import corpus_bleu\n",
    "    import utils\n",
    "    import imp\n",
    "    imp.reload(utils)\n",
    "    generate_translation = utils.generate_translation\n",
    "    remove_tech_tokens = utils.remove_tech_tokens\n",
    "    get_text = utils.get_text\n",
    "    flatten = utils.flatten\n",
    "\n",
    "    original_text = []\n",
    "    generated_text = []\n",
    "    model.eval()\n",
    "    with torch.no_grad():\n",
    "\n",
    "        for i, batch in enumerate(iterator):\n",
    "\n",
    "            src = batch.src\n",
    "            trg = batch.trg\n",
    "\n",
    "            output = model(src, trg, 0) #turn off teacher forcing\n",
    "\n",
    "            #trg = [trg sent len, batch size]\n",
    "            #output = [trg sent len, batch size, output dim]\n",
    "\n",
    "            output = output.argmax(dim=-1)\n",
    "\n",
    "            original_text.extend([get_text(x, TRG.vocab) for x in trg.cpu().numpy().T])\n",
    "            generated_text.extend([get_text(x, TRG.vocab) for x in output[1:].detach().cpu().numpy().T])\n",
    "    return corpus_bleu([[text] for text in original_text], generated_text) * 100"
   ]
  },
  {
   "cell_type": "code",
   "execution_count": null,
   "metadata": {
    "id": "jlsXi1kCAOPX"
   },
   "outputs": [],
   "source": [
    "def epoch_time(start_time, end_time):\n",
    "    elapsed_time = end_time - start_time\n",
    "    elapsed_mins = int(elapsed_time / 60)\n",
    "    elapsed_secs = int(elapsed_time - (elapsed_mins * 60))\n",
    "    return elapsed_mins, elapsed_secs"
   ]
  },
  {
   "cell_type": "code",
   "execution_count": null,
   "metadata": {
    "id": "bPPUXhY0AOPY"
   },
   "outputs": [],
   "source": [
    "train_history_baseline = []\n",
    "valid_history_baseline = []\n",
    "\n",
    "N_EPOCHS = 60\n",
    "CLIP = 1\n",
    "\n",
    "# best_valid_loss = float('inf')\n",
    "best_valid_BLEU = 0"
   ]
  },
  {
   "cell_type": "code",
   "execution_count": null,
   "metadata": {
    "colab": {
     "base_uri": "https://localhost:8080/"
    },
    "id": "8SGZyzElprR9",
    "outputId": "eaa9988e-1062-4725-fbc1-2e0ae49f248a"
   },
   "outputs": [
    {
     "name": "stdout",
     "output_type": "stream",
     "text": [
      "mkdir: cannot create directory ‘drive/MyDrive/DLiA-HW2’: File exists\n"
     ]
    }
   ],
   "source": [
    "!mkdir drive/MyDrive/DLiA-HW2"
   ]
  },
  {
   "cell_type": "code",
   "execution_count": null,
   "metadata": {
    "colab": {
     "base_uri": "https://localhost:8080/",
     "height": 565
    },
    "id": "YhpW9yrCAOPY",
    "outputId": "1928fb3a-a4c4-4a6e-83fa-b884dd074181"
   },
   "outputs": [
    {
     "data": {
      "image/png": "[encoded data removed]",
      "text/plain": [
       "<Figure size 864x576 with 2 Axes>"
      ]
     },
     "metadata": {
      "needs_background": "light",
      "tags": []
     },
     "output_type": "display_data"
    },
    {
     "name": "stdout",
     "output_type": "stream",
     "text": [
      "Epoch: 60 | Time: 0m 29s\n",
      "\tTrain Loss: 1.045 | Train PPL:   2.843\n",
      "\t Val. BLEU: 22.051 |  Val. PPL: 3773250001.962\n"
     ]
    }
   ],
   "source": [
    "for epoch in range(N_EPOCHS):\n",
    "    \n",
    "    start_time = time.time()\n",
    "    \n",
    "    train_loss = train(model, train_iterator, optimizer, criterion, CLIP, train_history_baseline, valid_history_baseline)\n",
    "    valid_BLEU = evaluateBLEU(model, valid_iterator)\n",
    "    \n",
    "    end_time = time.time()\n",
    "    \n",
    "    epoch_mins, epoch_secs = epoch_time(start_time, end_time)\n",
    "    \n",
    "    if valid_BLEU > best_valid_BLEU:\n",
    "        best_valid_BLEU = valid_BLEU\n",
    "        torch.save(model.state_dict(), 'baseline-model.pt')\n",
    "    \n",
    "    train_history_baseline.append(train_loss)\n",
    "    valid_history_baseline.append(valid_BLEU)\n",
    "    print(f'Epoch: {epoch+1:02} | Time: {epoch_mins}m {epoch_secs}s')\n",
    "    print(f'\\tTrain Loss: {train_loss:.3f} | Train PPL: {math.exp(train_loss):7.3f}')\n",
    "    print(f'\\t Val. BLEU: {valid_BLEU:.3f} |  Val. PPL: {math.exp(valid_BLEU):7.3f}')"
   ]
  },
  {
   "cell_type": "code",
   "execution_count": null,
   "metadata": {
    "id": "O9zhd6TuXS8W"
   },
   "outputs": [],
   "source": [
    "import pickle"
   ]
  },
  {
   "cell_type": "code",
   "execution_count": null,
   "metadata": {
    "id": "g-IW__JSXXB7"
   },
   "outputs": [],
   "source": [
    "with open('train_history_baseline.pkl', \"wb\") as output_file:\n",
    "    pickle.dump(train_history_baseline, output_file)\n",
    "with open('valid_history_baseline.pkl', \"wb\") as outout_file:\n",
    "    pickle.dump(valid_history_baseline, output_file)"
   ]
  },
  {
   "cell_type": "markdown",
   "metadata": {
    "id": "SIkLFdz8AOPY"
   },
   "source": [
    "__Let's take a look at our network quality__:"
   ]
  },
  {
   "cell_type": "code",
   "execution_count": null,
   "metadata": {
    "colab": {
     "base_uri": "https://localhost:8080/"
    },
    "id": "XTOr-4u5yZLx",
    "outputId": "23399735-1d0a-49a0-ad11-cf86f8abc0e7"
   },
   "outputs": [
    {
     "data": {
      "text/plain": [
       "<All keys matched successfully>"
      ]
     },
     "execution_count": 39,
     "metadata": {
      "tags": []
     },
     "output_type": "execute_result"
    }
   ],
   "source": [
    "model.load_state_dict(torch.load('baseline-model.pt'))"
   ]
  },
  {
   "cell_type": "code",
   "execution_count": 36,
   "metadata": {
    "id": "v0umKKxhAOPY"
   },
   "outputs": [],
   "source": [
    "import utils\n",
    "import imp\n",
    "imp.reload(utils)\n",
    "generate_translation = utils.generate_translation\n",
    "remove_tech_tokens = utils.remove_tech_tokens\n",
    "get_text = utils.get_text\n",
    "flatten = utils.flatten"
   ]
  },
  {
   "cell_type": "markdown",
   "metadata": {
    "id": "XK0Zi-P6AOPY"
   },
   "source": [
    "Take a look at the example translation:"
   ]
  },
  {
   "cell_type": "code",
   "execution_count": null,
   "metadata": {
    "id": "YZcNuZpNAOPY"
   },
   "outputs": [],
   "source": [
    "batch = next(iter(test_iterator))"
   ]
  },
  {
   "cell_type": "code",
   "execution_count": null,
   "metadata": {
    "id": "PhXUAu7ABfXv"
   },
   "outputs": [],
   "source": [
    "import numpy as np"
   ]
  },
  {
   "cell_type": "code",
   "execution_count": null,
   "metadata": {
    "colab": {
     "base_uri": "https://localhost:8080/"
    },
    "id": "JbmmSufdAOPY",
    "outputId": "7d424a4c-ab97-451a-cd71-5c38b048ce95"
   },
   "outputs": [
    {
     "name": "stdout",
     "output_type": "stream",
     "text": [
      "Original: a man throws a fishing net into the .\n",
      "Generated: a man is throwing a fishing rod into the end .\n",
      "\n",
      "Original: a yellow bulldozer working to move dirt .\n",
      "Generated: a yellow car the of the .\n",
      "\n",
      "Original: children ride bikes in what appears to be an .\n",
      "Generated: kids in a line , doing a in .\n",
      "\n"
     ]
    }
   ],
   "source": [
    "for idx in np.arange(3):\n",
    "    src = batch.src[:, idx:idx+1]\n",
    "    trg = batch.trg[:, idx:idx+1]\n",
    "    generate_translation(src, trg, model, TRG.vocab)"
   ]
  },
  {
   "cell_type": "code",
   "execution_count": null,
   "metadata": {
    "id": "e7W3FS61AOPY"
   },
   "outputs": [],
   "source": [
    "from nltk.translate.bleu_score import corpus_bleu\n",
    "import tqdm"
   ]
  },
  {
   "cell_type": "code",
   "execution_count": null,
   "metadata": {
    "colab": {
     "base_uri": "https://localhost:8080/"
    },
    "id": "sxhQYhaFAOPY",
    "outputId": "ae00ea25-5d7c-4149-eaa3-bd6fbe906db2"
   },
   "outputs": [
    {
     "name": "stderr",
     "output_type": "stream",
     "text": [
      "4it [00:00, 10.04it/s]\n"
     ]
    }
   ],
   "source": [
    "original_text = []\n",
    "generated_text = []\n",
    "model.eval()\n",
    "with torch.no_grad():\n",
    "\n",
    "    for i, batch in tqdm.tqdm(enumerate(test_iterator)):\n",
    "\n",
    "        src = batch.src\n",
    "        trg = batch.trg\n",
    "\n",
    "        output = model(src, trg, 0) #turn off teacher forcing\n",
    "\n",
    "        #trg = [trg sent len, batch size]\n",
    "        #output = [trg sent len, batch size, output dim]\n",
    "\n",
    "        output = output.argmax(dim=-1)\n",
    "        \n",
    "        original_text.extend([get_text(x, TRG.vocab) for x in trg.cpu().numpy().T])\n",
    "        generated_text.extend([get_text(x, TRG.vocab) for x in output[1:].detach().cpu().numpy().T])\n",
    "\n",
    "# original_text = flatten(original_text)\n",
    "# generated_text = flatten(generated_text)"
   ]
  },
  {
   "cell_type": "markdown",
   "metadata": {
    "id": "Ke64IQ47nv1k"
   },
   "source": [
    "### Baseline score:"
   ]
  },
  {
   "cell_type": "code",
   "execution_count": null,
   "metadata": {
    "colab": {
     "base_uri": "https://localhost:8080/"
    },
    "id": "JtWtBf5dAOPZ",
    "outputId": "3dab3ede-3425-40fa-9381-9ca58de48376"
   },
   "outputs": [
    {
     "data": {
      "text/plain": [
       "23.230268857093492"
      ]
     },
     "execution_count": 48,
     "metadata": {
      "tags": []
     },
     "output_type": "execute_result"
    }
   ],
   "source": [
    "corpus_bleu([[text] for text in original_text], generated_text) * 100"
   ]
  },
  {
   "cell_type": "markdown",
   "metadata": {
    "id": "6uBVoGDc8HNP"
   },
   "source": [
    "## Method 1: Learning rate decay:"
   ]
  },
  {
   "cell_type": "code",
   "execution_count": null,
   "metadata": {
    "colab": {
     "base_uri": "https://localhost:8080/"
    },
    "id": "2nUqMiZn8GJJ",
    "outputId": "85e3d95e-a3fa-4c0e-cef7-151e76207898"
   },
   "outputs": [
    {
     "data": {
      "text/plain": [
       "Seq2Seq(\n",
       "  (encoder): Encoder(\n",
       "    (embedding): Embedding(3591, 256)\n",
       "    (rnn): LSTM(256, 512, num_layers=2, dropout=0.5)\n",
       "    (dropout): Dropout(p=0.5, inplace=False)\n",
       "  )\n",
       "  (decoder): Decoder(\n",
       "    (embedding): Embedding(3274, 256)\n",
       "    (rnn): LSTM(256, 512, num_layers=2, dropout=0.5)\n",
       "    (out): Linear(in_features=512, out_features=3274, bias=True)\n",
       "    (dropout): Dropout(p=0.5, inplace=False)\n",
       "  )\n",
       ")"
      ]
     },
     "execution_count": 51,
     "metadata": {
      "tags": []
     },
     "output_type": "execute_result"
    }
   ],
   "source": [
    "# Re-initiate the model\n",
    "enc = Encoder(INPUT_DIM, ENC_EMB_DIM, HID_DIM, N_LAYERS, ENC_DROPOUT)\n",
    "dec = Decoder(OUTPUT_DIM, DEC_EMB_DIM, HID_DIM, N_LAYERS, DEC_DROPOUT)\n",
    "model_lr_decay = Seq2Seq(enc, dec, device).to(device)\n",
    "model_lr_decay.apply(init_weights)"
   ]
  },
  {
   "cell_type": "code",
   "execution_count": null,
   "metadata": {
    "id": "PgEqu6J285EM"
   },
   "outputs": [],
   "source": [
    "from torch.optim.lr_scheduler import StepLR"
   ]
  },
  {
   "cell_type": "markdown",
   "metadata": {
    "id": "X0deDi-yxszg"
   },
   "source": [
    "From the training plot, the model stopped training after around 20 epochs, therefore I'll multiply learning rate by 0.1 after 20 epochs."
   ]
  },
  {
   "cell_type": "code",
   "execution_count": null,
   "metadata": {
    "id": "r_8yIykG8Qpz"
   },
   "outputs": [],
   "source": [
    "optimizer = optim.Adam(model_lr_decay.parameters())\n",
    "criterion = nn.CrossEntropyLoss(ignore_index = PAD_IDX)\n",
    "# Add lr step scheduler\n",
    "scheduler = StepLR(optimizer, step_size=20, gamma=0.1)"
   ]
  },
  {
   "cell_type": "code",
   "execution_count": null,
   "metadata": {
    "id": "mWVCSJnm8kzd"
   },
   "outputs": [],
   "source": [
    "train_history_lr_decay = []\n",
    "valid_history_lr_decay = []\n",
    "\n",
    "N_EPOCHS = 60\n",
    "CLIP = 1\n",
    "best_valid_BLEU = 0"
   ]
  },
  {
   "cell_type": "code",
   "execution_count": null,
   "metadata": {
    "colab": {
     "base_uri": "https://localhost:8080/",
     "height": 565
    },
    "id": "TdAz-KHW8kzh",
    "outputId": "069eaab8-f8b3-4e20-f8f5-d9703ae7dabd"
   },
   "outputs": [
    {
     "data": {
      "image/png": "[encoded data removed]",
      "text/plain": [
       "<Figure size 864x576 with 2 Axes>"
      ]
     },
     "metadata": {
      "needs_background": "light",
      "tags": []
     },
     "output_type": "display_data"
    },
    {
     "name": "stdout",
     "output_type": "stream",
     "text": [
      "Epoch: 60 | Time: 0m 29s\n",
      "\tTrain Loss: 2.263 | Train PPL:   9.610\n",
      "\t Val. BLEU: 19.327 |  Val. PPL: 247553600.722\n"
     ]
    }
   ],
   "source": [
    "for epoch in range(N_EPOCHS):\n",
    "    \n",
    "    start_time = time.time()\n",
    "    \n",
    "    train_loss = train(model_lr_decay, train_iterator, optimizer, criterion, CLIP, train_history_lr_decay, valid_history_lr_decay)\n",
    "    valid_BLEU = evaluateBLEU(model_lr_decay, valid_iterator)\n",
    "    scheduler.step()\n",
    "    \n",
    "    end_time = time.time()\n",
    "    \n",
    "    epoch_mins, epoch_secs = epoch_time(start_time, end_time)\n",
    "    \n",
    "    if valid_BLEU > best_valid_BLEU:\n",
    "        best_valid_BLEU = valid_BLEU\n",
    "        torch.save(model_lr_decay.state_dict(), 'lr-decay-model.pt')\n",
    "    \n",
    "    train_history_lr_decay.append(train_loss)\n",
    "    valid_history_lr_decay.append(valid_BLEU)\n",
    "    print(f'Epoch: {epoch+1:02} | Time: {epoch_mins}m {epoch_secs}s')\n",
    "    print(f'\\tTrain Loss: {train_loss:.3f} | Train PPL: {math.exp(train_loss):7.3f}')\n",
    "    print(f'\\t Val. BLEU: {valid_BLEU:.3f} |  Val. PPL: {math.exp(valid_BLEU):7.3f}')"
   ]
  },
  {
   "cell_type": "code",
   "execution_count": null,
   "metadata": {
    "id": "YyeSLbFUXcuK"
   },
   "outputs": [],
   "source": [
    "with open('train_history_lr_decay.pkl', \"wb\") as output_file:\n",
    "    pickle.dump(train_history_lr_decay, output_file)\n",
    "with open('valid_history_lr_decay.pkl', \"wb\") as output_file:\n",
    "    pickle.dump(valid_history_lr_decay, output_file)"
   ]
  },
  {
   "cell_type": "markdown",
   "metadata": {
    "id": "HtvXt24PB7q0"
   },
   "source": [
    "#### Evaluate the model:"
   ]
  },
  {
   "cell_type": "code",
   "execution_count": null,
   "metadata": {
    "colab": {
     "base_uri": "https://localhost:8080/"
    },
    "id": "xMdTSh3p0fB1",
    "outputId": "3d577c8a-ece1-4460-f23e-63533d5e0238"
   },
   "outputs": [
    {
     "data": {
      "text/plain": [
       "<All keys matched successfully>"
      ]
     },
     "execution_count": 52,
     "metadata": {
      "tags": []
     },
     "output_type": "execute_result"
    }
   ],
   "source": [
    "model_lr_decay.load_state_dict(torch.load('lr-decay-model.pt'))"
   ]
  },
  {
   "cell_type": "code",
   "execution_count": null,
   "metadata": {
    "colab": {
     "base_uri": "https://localhost:8080/"
    },
    "id": "Yn8BvMHJB6UM",
    "outputId": "2fcf30c3-4665-492e-859a-83d46dcc5fa9"
   },
   "outputs": [
    {
     "name": "stderr",
     "output_type": "stream",
     "text": [
      "4it [00:00, 11.23it/s]\n"
     ]
    }
   ],
   "source": [
    "original_text = []\n",
    "generated_text = []\n",
    "model_lr_decay.eval()\n",
    "with torch.no_grad():\n",
    "\n",
    "    for i, batch in tqdm.tqdm(enumerate(test_iterator)):\n",
    "\n",
    "        src = batch.src\n",
    "        trg = batch.trg\n",
    "\n",
    "        output = model_lr_decay(src, trg, 0) #turn off teacher forcing\n",
    "\n",
    "        #trg = [trg sent len, batch size]\n",
    "        #output = [trg sent len, batch size, output dim]\n",
    "\n",
    "        output = output.argmax(dim=-1)\n",
    "        \n",
    "        original_text.extend([get_text(x, TRG.vocab) for x in trg.cpu().numpy().T])\n",
    "        generated_text.extend([get_text(x, TRG.vocab) for x in output[1:].detach().cpu().numpy().T])\n",
    "\n",
    "# original_text = flatten(original_text)\n",
    "# generated_text = flatten(generated_text)"
   ]
  },
  {
   "cell_type": "code",
   "execution_count": null,
   "metadata": {
    "colab": {
     "base_uri": "https://localhost:8080/"
    },
    "id": "0_jFa9XvB6Ud",
    "outputId": "7416fcd0-2e50-43ab-9c0f-0b9e2d63d447"
   },
   "outputs": [
    {
     "data": {
      "text/plain": [
       "19.61126814064022"
      ]
     },
     "execution_count": 54,
     "metadata": {
      "tags": []
     },
     "output_type": "execute_result"
    }
   ],
   "source": [
    "corpus_bleu([[text] for text in original_text], generated_text) * 100"
   ]
  },
  {
   "cell_type": "code",
   "execution_count": null,
   "metadata": {
    "id": "21x8TDoInu0o"
   },
   "outputs": [],
   "source": [
    "with open('valid_history_baseline.pkl', 'rb') as file:\n",
    "    valid_history_baseline = pickle.load(file)\n",
    "with open('valid_history_lr_decay.pkl', 'rb') as file:\n",
    "    valid_history_lr_decay = pickle.load(file)"
   ]
  },
  {
   "cell_type": "code",
   "execution_count": null,
   "metadata": {
    "colab": {
     "base_uri": "https://localhost:8080/",
     "height": 516
    },
    "id": "ot1xAjmnn-2V",
    "outputId": "fd63d041-bb0c-4396-9638-9e4f494ea5ef"
   },
   "outputs": [
    {
     "data": {
      "text/plain": [
       "<matplotlib.legend.Legend at 0x7fa9f8fd0f90>"
      ]
     },
     "execution_count": 67,
     "metadata": {
      "tags": []
     },
     "output_type": "execute_result"
    },
    {
     "data": {
      "image/png": "[encoded data removed]",
      "text/plain": [
       "<Figure size 576x576 with 1 Axes>"
      ]
     },
     "metadata": {
      "needs_background": "light",
      "tags": []
     },
     "output_type": "display_data"
    }
   ],
   "source": [
    "fig, ax = plt.subplots(nrows=1, ncols=1, figsize=(8, 8))\n",
    "ax.plot(valid_history_baseline, label='baseline')\n",
    "ax.plot(valid_history_lr_decay, label='with LR decay')\n",
    "ax.set_title('Validation BLEU score')\n",
    "plt.legend()"
   ]
  },
  {
   "cell_type": "markdown",
   "metadata": {
    "id": "mxXErxzCnjyP"
   },
   "source": [
    "The sudden decrease in learning rate stopped the model from training even earlier than baseline. I'll experiment again with a smaller decay."
   ]
  },
  {
   "cell_type": "code",
   "execution_count": null,
   "metadata": {
    "colab": {
     "base_uri": "https://localhost:8080/"
    },
    "id": "GxFSGb61psTB",
    "outputId": "b30fbcb6-7ce2-4374-816d-e93448dc0144"
   },
   "outputs": [
    {
     "data": {
      "text/plain": [
       "Seq2Seq(\n",
       "  (encoder): Encoder(\n",
       "    (embedding): Embedding(3591, 256)\n",
       "    (rnn): LSTM(256, 512, num_layers=2, dropout=0.5)\n",
       "    (dropout): Dropout(p=0.5, inplace=False)\n",
       "  )\n",
       "  (decoder): Decoder(\n",
       "    (embedding): Embedding(3274, 256)\n",
       "    (rnn): LSTM(256, 512, num_layers=2, dropout=0.5)\n",
       "    (out): Linear(in_features=512, out_features=3274, bias=True)\n",
       "    (dropout): Dropout(p=0.5, inplace=False)\n",
       "  )\n",
       ")"
      ]
     },
     "execution_count": 80,
     "metadata": {
      "tags": []
     },
     "output_type": "execute_result"
    }
   ],
   "source": [
    "# Re-initiate the model\n",
    "enc = Encoder(INPUT_DIM, ENC_EMB_DIM, HID_DIM, N_LAYERS, ENC_DROPOUT)\n",
    "dec = Decoder(OUTPUT_DIM, DEC_EMB_DIM, HID_DIM, N_LAYERS, DEC_DROPOUT)\n",
    "model_lr_decay_2 = Seq2Seq(enc, dec, device).to(device)\n",
    "model_lr_decay_2.apply(init_weights)"
   ]
  },
  {
   "cell_type": "code",
   "execution_count": null,
   "metadata": {
    "id": "VgKnU131psTR"
   },
   "outputs": [],
   "source": [
    "optimizer = optim.Adam(model_lr_decay_2.parameters())\n",
    "criterion = nn.CrossEntropyLoss(ignore_index = PAD_IDX)\n",
    "# Add lr step scheduler\n",
    "scheduler = StepLR(optimizer, step_size=20, gamma=0.5)"
   ]
  },
  {
   "cell_type": "code",
   "execution_count": null,
   "metadata": {
    "id": "9CWLNZH9psTS"
   },
   "outputs": [],
   "source": [
    "train_history_lr_decay_2 = []\n",
    "valid_history_lr_decay_2 = []\n",
    "\n",
    "N_EPOCHS = 60\n",
    "CLIP = 1\n",
    "best_valid_BLEU = 0"
   ]
  },
  {
   "cell_type": "code",
   "execution_count": null,
   "metadata": {
    "colab": {
     "base_uri": "https://localhost:8080/",
     "height": 565
    },
    "id": "ECBW_MakpsTS",
    "outputId": "973cde36-be5a-465f-b8a9-c68aba0238d4"
   },
   "outputs": [
    {
     "data": {
      "image/png": "[encoded data removed]",
      "text/plain": [
       "<Figure size 864x576 with 2 Axes>"
      ]
     },
     "metadata": {
      "needs_background": "light",
      "tags": []
     },
     "output_type": "display_data"
    },
    {
     "name": "stdout",
     "output_type": "stream",
     "text": [
      "Epoch: 60 | Time: 0m 29s\n",
      "\tTrain Loss: 1.535 | Train PPL:   4.642\n",
      "\t Val. BLEU: 21.596 |  Val. PPL: 2393392596.123\n"
     ]
    }
   ],
   "source": [
    "for epoch in range(N_EPOCHS):\n",
    "    \n",
    "    start_time = time.time()\n",
    "    \n",
    "    train_loss = train(model_lr_decay_2, train_iterator, optimizer, criterion, CLIP, train_history_lr_decay_2, valid_history_lr_decay_2)\n",
    "    valid_BLEU = evaluateBLEU(model_lr_decay_2, valid_iterator)\n",
    "    scheduler.step()\n",
    "    \n",
    "    end_time = time.time()\n",
    "    \n",
    "    epoch_mins, epoch_secs = epoch_time(start_time, end_time)\n",
    "    \n",
    "    if valid_BLEU > best_valid_BLEU:\n",
    "        best_valid_BLEU = valid_BLEU\n",
    "        torch.save(model_lr_decay_2.state_dict(), 'lr-decay-model_2.pt')\n",
    "    \n",
    "    train_history_lr_decay_2.append(train_loss)\n",
    "    valid_history_lr_decay_2.append(valid_BLEU)\n",
    "    print(f'Epoch: {epoch+1:02} | Time: {epoch_mins}m {epoch_secs}s')\n",
    "    print(f'\\tTrain Loss: {train_loss:.3f} | Train PPL: {math.exp(train_loss):7.3f}')\n",
    "    print(f'\\t Val. BLEU: {valid_BLEU:.3f} |  Val. PPL: {math.exp(valid_BLEU):7.3f}')"
   ]
  },
  {
   "cell_type": "code",
   "execution_count": null,
   "metadata": {
    "id": "i0CvNpNBpsTS"
   },
   "outputs": [],
   "source": [
    "with open('train_history_lr_decay_2.pkl', \"wb\") as output_file:\n",
    "    pickle.dump(train_history_lr_decay_2, output_file)\n",
    "with open('valid_history_lr_decay_2.pkl', \"wb\") as output_file:\n",
    "    pickle.dump(valid_history_lr_decay_2, output_file)"
   ]
  },
  {
   "cell_type": "markdown",
   "metadata": {
    "id": "UtIGl1I6psTS"
   },
   "source": [
    "### Evaluate the model:"
   ]
  },
  {
   "cell_type": "code",
   "execution_count": null,
   "metadata": {
    "colab": {
     "base_uri": "https://localhost:8080/"
    },
    "id": "oeI6XrbrpsTS",
    "outputId": "b54605ed-4b33-4d6d-c6b2-9199d7057fac"
   },
   "outputs": [
    {
     "data": {
      "text/plain": [
       "<All keys matched successfully>"
      ]
     },
     "execution_count": 85,
     "metadata": {
      "tags": []
     },
     "output_type": "execute_result"
    }
   ],
   "source": [
    "model_lr_decay_2.load_state_dict(torch.load('lr-decay-model_2.pt'))"
   ]
  },
  {
   "cell_type": "code",
   "execution_count": null,
   "metadata": {
    "colab": {
     "base_uri": "https://localhost:8080/"
    },
    "id": "fY2rnuKPpsTT",
    "outputId": "a8e60eac-7acd-414f-cfb9-0646847df95c"
   },
   "outputs": [
    {
     "name": "stderr",
     "output_type": "stream",
     "text": [
      "4it [00:00, 10.59it/s]\n"
     ]
    }
   ],
   "source": [
    "original_text = []\n",
    "generated_text = []\n",
    "model_lr_decay_2.eval()\n",
    "with torch.no_grad():\n",
    "\n",
    "    for i, batch in tqdm.tqdm(enumerate(test_iterator)):\n",
    "\n",
    "        src = batch.src\n",
    "        trg = batch.trg\n",
    "\n",
    "        output = model_lr_decay_2(src, trg, 0) #turn off teacher forcing\n",
    "\n",
    "        #trg = [trg sent len, batch size]\n",
    "        #output = [trg sent len, batch size, output dim]\n",
    "\n",
    "        output = output.argmax(dim=-1)\n",
    "        \n",
    "        original_text.extend([get_text(x, TRG.vocab) for x in trg.cpu().numpy().T])\n",
    "        generated_text.extend([get_text(x, TRG.vocab) for x in output[1:].detach().cpu().numpy().T])\n",
    "\n",
    "# original_text = flatten(original_text)\n",
    "# generated_text = flatten(generated_text)"
   ]
  },
  {
   "cell_type": "code",
   "execution_count": null,
   "metadata": {
    "colab": {
     "base_uri": "https://localhost:8080/"
    },
    "id": "HLXf1twSpsTT",
    "outputId": "61fdf1c5-9324-4276-ace3-ccfa571ea823"
   },
   "outputs": [
    {
     "data": {
      "text/plain": [
       "22.327864321295102"
      ]
     },
     "execution_count": 87,
     "metadata": {
      "tags": []
     },
     "output_type": "execute_result"
    }
   ],
   "source": [
    "corpus_bleu([[text] for text in original_text], generated_text) * 100"
   ]
  },
  {
   "cell_type": "code",
   "execution_count": null,
   "metadata": {
    "colab": {
     "base_uri": "https://localhost:8080/",
     "height": 516
    },
    "id": "z73Qr3-O3yop",
    "outputId": "98f351d5-4178-432b-c23d-166ef9fc1484"
   },
   "outputs": [
    {
     "data": {
      "text/plain": [
       "<matplotlib.legend.Legend at 0x7fa9f29e8e50>"
      ]
     },
     "execution_count": 88,
     "metadata": {
      "tags": []
     },
     "output_type": "execute_result"
    },
    {
     "data": {
      "image/png": "[encoded data removed]",
      "text/plain": [
       "<Figure size 576x576 with 1 Axes>"
      ]
     },
     "metadata": {
      "needs_background": "light",
      "tags": []
     },
     "output_type": "display_data"
    }
   ],
   "source": [
    "fig, ax = plt.subplots(nrows=1, ncols=1, figsize=(8, 8))\n",
    "ax.plot(valid_history_baseline, label='baseline')\n",
    "ax.plot(valid_history_lr_decay, label='large LR decay')\n",
    "ax.plot(valid_history_lr_decay_2, label='small LR decay')\n",
    "ax.set_title('Validation BLEU score')\n",
    "plt.legend()"
   ]
  },
  {
   "cell_type": "markdown",
   "metadata": {
    "id": "uEEphQtn38Aq"
   },
   "source": [
    "The smaller decay rates performed better, but it still haven't beat the baseline yet. I think it may improve the result with longer training (100+ epochs)"
   ]
  },
  {
   "cell_type": "markdown",
   "metadata": {
    "id": "SOJjLXU5-oNk"
   },
   "source": [
    "## Method 2: CNN encoder\n",
    "\n",
    "Below I'll write a new class for CNN encoder. In the previous model, the decoder takes the hidden and cell state from all the encoder RNN layers as input. Meanwhile, CNN is only capable of producing 1 output. Therefore, I'll use that CNN output as the hidden as well as cell state for all the decoder RNN layers."
   ]
  },
  {
   "cell_type": "code",
   "execution_count": 37,
   "metadata": {
    "id": "UwSvTNRj-rD8"
   },
   "outputs": [],
   "source": [
    "class Reorder(nn.Module):\n",
    "    def forward(self, input):\n",
    "        return input.permute((1, 2, 0))\n",
    "\n",
    "class EncoderCNN(nn.Module):\n",
    "    def __init__(self, input_dim, emb_dim, hid_dim, n_layers, dropout):\n",
    "        super().__init__()\n",
    "        self.hid_dim = hid_dim\n",
    "        self.n_layers = n_layers\n",
    "\n",
    "        self.embedding = nn.Embedding(num_embeddings=input_dim, embedding_dim=emb_dim)\n",
    "\n",
    "        self.cnn = nn.Sequential(\n",
    "            Reorder(),\n",
    "            nn.Conv1d(\n",
    "                in_channels=emb_dim,\n",
    "                out_channels=emb_dim*4,\n",
    "                kernel_size=2\n",
    "            ),\n",
    "            nn.ReLU(),\n",
    "            nn.Conv1d(\n",
    "                in_channels=emb_dim*4,\n",
    "                out_channels=emb_dim*4,\n",
    "                kernel_size=3\n",
    "            ),\n",
    "            nn.BatchNorm1d(emb_dim*4),\n",
    "            nn.ReLU(),\n",
    "            nn.AdaptiveMaxPool1d(1),\n",
    "            nn.Flatten(),\n",
    "            nn.Linear(emb_dim*4, hid_dim)\n",
    "        )\n",
    "\n",
    "        # output shape: [batch size, hid_dim]\n",
    "        \n",
    "        self.dropout = nn.Dropout(p=dropout)\n",
    "        \n",
    "    def forward(self, src):\n",
    "        \n",
    "        #src = [src sent len, batch size]\n",
    "        \n",
    "        # Compute an embedding from the src data and apply dropout to it\n",
    "        embedded = self.embedding(src)\n",
    "        embedded = self.dropout(embedded)\n",
    "        \n",
    "        output = self.cnn(embedded)\n",
    "        # output shape: [batch size, hid_dim]\n",
    "\n",
    "        # I'll use the above output as both hidden and cell state for all layers\n",
    "        outputs = [output[None, :, :]] * self.n_layers # adding a new dimension for layers \n",
    "        hidden = torch.cat(outputs)\n",
    "        cell = torch.cat(outputs)\n",
    "        #hidden = [n layers, batch size, hid dim]\n",
    "        #cell = [n layers, batch size, hid dim]\n",
    "        \n",
    "        return hidden, cell"
   ]
  },
  {
   "cell_type": "code",
   "execution_count": 38,
   "metadata": {
    "colab": {
     "base_uri": "https://localhost:8080/"
    },
    "id": "tQPUNwtWOr89",
    "outputId": "3a97d5fb-f66a-40fb-f18a-2dc303e1c368"
   },
   "outputs": [
    {
     "data": {
      "text/plain": [
       "Seq2Seq(\n",
       "  (encoder): EncoderCNN(\n",
       "    (embedding): Embedding(3591, 256)\n",
       "    (cnn): Sequential(\n",
       "      (0): Reorder()\n",
       "      (1): Conv1d(256, 1024, kernel_size=(2,), stride=(1,))\n",
       "      (2): ReLU()\n",
       "      (3): Conv1d(1024, 1024, kernel_size=(3,), stride=(1,))\n",
       "      (4): BatchNorm1d(1024, eps=1e-05, momentum=0.1, affine=True, track_running_stats=True)\n",
       "      (5): ReLU()\n",
       "      (6): AdaptiveMaxPool1d(output_size=1)\n",
       "      (7): Flatten(start_dim=1, end_dim=-1)\n",
       "      (8): Linear(in_features=1024, out_features=512, bias=True)\n",
       "    )\n",
       "    (dropout): Dropout(p=0.5, inplace=False)\n",
       "  )\n",
       "  (decoder): Decoder(\n",
       "    (embedding): Embedding(3274, 256)\n",
       "    (rnn): LSTM(256, 512, num_layers=2, dropout=0.5)\n",
       "    (out): Linear(in_features=512, out_features=3274, bias=True)\n",
       "    (dropout): Dropout(p=0.5, inplace=False)\n",
       "  )\n",
       ")"
      ]
     },
     "execution_count": 38,
     "metadata": {},
     "output_type": "execute_result"
    }
   ],
   "source": [
    "enc = EncoderCNN(INPUT_DIM, ENC_EMB_DIM, HID_DIM, N_LAYERS, ENC_DROPOUT)\n",
    "dec = Decoder(OUTPUT_DIM, DEC_EMB_DIM, HID_DIM, N_LAYERS, DEC_DROPOUT)\n",
    "model_CNN = Seq2Seq(enc, dec, device).to(device)\n",
    "model_CNN.apply(init_weights)"
   ]
  },
  {
   "cell_type": "code",
   "execution_count": null,
   "metadata": {
    "id": "QplzUPEhO7th"
   },
   "outputs": [],
   "source": [
    "optimizer = optim.Adam(model_CNN.parameters())\n",
    "criterion = nn.CrossEntropyLoss(ignore_index = PAD_IDX)\n",
    "\n",
    "train_history_cnn = []\n",
    "valid_history_cnn = []\n",
    "\n",
    "N_EPOCHS = 50\n",
    "CLIP = 1\n",
    "\n",
    "best_valid_BLEU = 0"
   ]
  },
  {
   "cell_type": "code",
   "execution_count": null,
   "metadata": {
    "colab": {
     "base_uri": "https://localhost:8080/",
     "height": 565
    },
    "id": "zQao59QhO7th",
    "outputId": "18a36530-4ca9-47f8-f38b-6c6c3ca7ea3d"
   },
   "outputs": [
    {
     "data": {
      "image/png": "[encoded data removed]",
      "text/plain": [
       "<Figure size 864x576 with 2 Axes>"
      ]
     },
     "metadata": {
      "needs_background": "light",
      "tags": []
     },
     "output_type": "display_data"
    },
    {
     "name": "stdout",
     "output_type": "stream",
     "text": [
      "Epoch: 10 | Time: 0m 28s\n",
      "\tTrain Loss: 0.660 | Train PPL:   1.935\n",
      "\t Val. BLEU: 25.396 |  Val. PPL: 106975389578.788\n"
     ]
    }
   ],
   "source": [
    "for epoch in range(N_EPOCHS):\n",
    "    \n",
    "    start_time = time.time()\n",
    "    \n",
    "    train_loss = train(model_CNN, train_iterator, optimizer, criterion, CLIP, train_history_cnn, valid_history_cnn)\n",
    "    valid_BLEU = evaluateBLEU(model_CNN, valid_iterator)\n",
    "\n",
    "    \n",
    "    end_time = time.time()\n",
    "    \n",
    "    epoch_mins, epoch_secs = epoch_time(start_time, end_time)\n",
    "    \n",
    "    if valid_BLEU > best_valid_BLEU:\n",
    "        best_valid_BLEU = valid_BLEU\n",
    "        torch.save(model_CNN.state_dict(), 'CNN-model.pt')\n",
    "    \n",
    "    train_history_cnn.append(train_loss)\n",
    "    valid_history_cnn.append(valid_BLEU)\n",
    "    print(f'Epoch: {epoch+1:02} | Time: {epoch_mins}m {epoch_secs}s')\n",
    "    print(f'\\tTrain Loss: {train_loss:.3f} | Train PPL: {math.exp(train_loss):7.3f}')\n",
    "    print(f'\\t Val. BLEU: {valid_BLEU:.3f} |  Val. PPL: {math.exp(valid_BLEU):7.3f}')"
   ]
  },
  {
   "cell_type": "code",
   "execution_count": null,
   "metadata": {
    "id": "POFj-Q36XncS"
   },
   "outputs": [],
   "source": [
    "with open('train_history_cnn.pkl', \"wb\") as output_file:\n",
    "    pickle.dump(train_history_cnn, output_file)\n",
    "with open('valid_history_cnn.pkl', \"wb\") as output_file:\n",
    "    pickle.dump(valid_history_cnn, output_file)"
   ]
  },
  {
   "cell_type": "markdown",
   "metadata": {
    "id": "jLcTzGTCboSM"
   },
   "source": [
    "### Evaluate the model:"
   ]
  },
  {
   "cell_type": "code",
   "execution_count": null,
   "metadata": {
    "colab": {
     "base_uri": "https://localhost:8080/"
    },
    "id": "F8kOTlu1yLsz",
    "outputId": "42b7e103-4a16-434e-8cf1-e860857a5cac"
   },
   "outputs": [
    {
     "data": {
      "text/plain": [
       "<All keys matched successfully>"
      ]
     },
     "execution_count": 132,
     "metadata": {
      "tags": []
     },
     "output_type": "execute_result"
    }
   ],
   "source": [
    "model_CNN.load_state_dict(torch.load('CNN-model.pt'))"
   ]
  },
  {
   "cell_type": "code",
   "execution_count": null,
   "metadata": {
    "colab": {
     "base_uri": "https://localhost:8080/"
    },
    "id": "b6tisW3fboSN",
    "outputId": "a81384c9-df62-4938-bbfd-a67c5dbca465"
   },
   "outputs": [
    {
     "name": "stderr",
     "output_type": "stream",
     "text": [
      "4it [00:00, 10.75it/s]\n"
     ]
    }
   ],
   "source": [
    "original_text = []\n",
    "generated_text = []\n",
    "model_CNN.eval()\n",
    "with torch.no_grad():\n",
    "\n",
    "    for i, batch in tqdm.tqdm(enumerate(test_iterator)):\n",
    "\n",
    "        src = batch.src\n",
    "        trg = batch.trg\n",
    "\n",
    "        output = model_CNN(src, trg, 0) #turn off teacher forcing\n",
    "\n",
    "        #trg = [trg sent len, batch size]\n",
    "        #output = [trg sent len, batch size, output dim]\n",
    "\n",
    "        output = output.argmax(dim=-1)\n",
    "        \n",
    "        original_text.extend([get_text(x, TRG.vocab) for x in trg.cpu().numpy().T])\n",
    "        generated_text.extend([get_text(x, TRG.vocab) for x in output[1:].detach().cpu().numpy().T])\n",
    "\n",
    "# original_text = flatten(original_text)\n",
    "# generated_text = flatten(generated_text)"
   ]
  },
  {
   "cell_type": "code",
   "execution_count": null,
   "metadata": {
    "colab": {
     "base_uri": "https://localhost:8080/"
    },
    "id": "YruGu-htboSO",
    "outputId": "50d153f7-c0c3-4147-d06d-6c7fb79af2c8"
   },
   "outputs": [
    {
     "data": {
      "text/plain": [
       "26.437562103597017"
      ]
     },
     "execution_count": 134,
     "metadata": {
      "tags": []
     },
     "output_type": "execute_result"
    }
   ],
   "source": [
    "corpus_bleu([[text] for text in original_text], generated_text) * 100"
   ]
  },
  {
   "cell_type": "markdown",
   "metadata": {
    "id": "vIp7YfMyBLL0"
   },
   "source": [
    "## Method 3: Pre-trained word embedding"
   ]
  },
  {
   "cell_type": "markdown",
   "metadata": {
    "id": "NlOMJYD7gWnZ"
   },
   "source": [
    "Download German embedding:"
   ]
  },
  {
   "cell_type": "code",
   "execution_count": null,
   "metadata": {
    "colab": {
     "base_uri": "https://localhost:8080/"
    },
    "id": "7grFUVNHBN25",
    "outputId": "c0935d17-550b-463b-efb3-09a93696ee79"
   },
   "outputs": [
    {
     "name": "stdout",
     "output_type": "stream",
     "text": [
      "  % Total    % Received % Xferd  Average Speed   Time    Time     Time  Current\n",
      "                                 Dload  Upload   Total   Spent    Left  Speed\n",
      "100 4288M  100 4288M    0     0  48.4M      0  0:01:28  0:01:28 --:--:-- 51.6M\n"
     ]
    }
   ],
   "source": [
    "!curl https://dl.fbaipublicfiles.com/fasttext/vectors-crawl/cc.de.300.bin.gz -o 'cc.de.300.bin.gz'\n",
    "!gunzip 'cc.de.300.bin.gz'"
   ]
  },
  {
   "cell_type": "code",
   "execution_count": null,
   "metadata": {
    "id": "qfzX1tZtiF40"
   },
   "outputs": [],
   "source": [
    "from gensim.models.wrappers import FastText"
   ]
  },
  {
   "cell_type": "code",
   "execution_count": null,
   "metadata": {
    "id": "fgmxXK0pnNVp"
   },
   "outputs": [],
   "source": [
    "gensim_de = FastText.load_fasttext_format('cc.de.300.bin')"
   ]
  },
  {
   "cell_type": "code",
   "execution_count": null,
   "metadata": {
    "id": "93S59EgOcIrw"
   },
   "outputs": [],
   "source": [
    "weight_matrix_de = torch.zeros((INPUT_DIM, gensim_de.vector_size))\n",
    "missing_words_de = []\n",
    "\n",
    "for i in range(INPUT_DIM):\n",
    "    try:\n",
    "    weight_matrix_de[i] = torch.FloatTensor(gensim_de[SRC.vocab.itos[i]])\n",
    "    except KeyError:\n",
    "    weight_matrix_de[i] = torch.randn(gensim_de.vector_size)\n",
    "    missing_words_de.append(SRC.vocab.itos[i])"
   ]
  },
  {
   "cell_type": "code",
   "execution_count": null,
   "metadata": {
    "colab": {
     "base_uri": "https://localhost:8080/"
    },
    "id": "e52rwF6Ab--r",
    "outputId": "55e0e949-7ee9-4661-f325-164f2febbe8e"
   },
   "outputs": [
    {
     "data": {
      "text/plain": [
       "['“.', '“-', '\".', '.“']"
      ]
     },
     "execution_count": 50,
     "metadata": {
      "tags": []
     },
     "output_type": "execute_result"
    }
   ],
   "source": [
    "missing_words_de"
   ]
  },
  {
   "cell_type": "code",
   "execution_count": null,
   "metadata": {
    "id": "aE5j7NUxfA3n"
   },
   "outputs": [],
   "source": [
    "with open('weight_matrix_de.pkl', \"wb\") as output_file:\n",
    "    pickle.dump(weight_matrix_de, output_file)"
   ]
  },
  {
   "cell_type": "markdown",
   "metadata": {
    "id": "MwEbDWVHgZFP"
   },
   "source": [
    "Download English embedding:"
   ]
  },
  {
   "cell_type": "code",
   "execution_count": null,
   "metadata": {
    "colab": {
     "base_uri": "https://localhost:8080/"
    },
    "id": "nBieoxd2gapg",
    "outputId": "86818427-ff2f-4ba8-be48-b4cd916c4ab0"
   },
   "outputs": [
    {
     "name": "stdout",
     "output_type": "stream",
     "text": [
      "  % Total    % Received % Xferd  Average Speed   Time    Time     Time  Current\n",
      "                                 Dload  Upload   Total   Spent    Left  Speed\n",
      "100 4294M  100 4294M    0     0  48.8M      0  0:01:27  0:01:27 --:--:-- 46.0M\n"
     ]
    }
   ],
   "source": [
    "!curl https://dl.fbaipublicfiles.com/fasttext/vectors-crawl/cc.en.300.bin.gz -o 'cc.en.300.bin.gz'\n",
    "!gunzip 'cc.en.300.bin.gz'"
   ]
  },
  {
   "cell_type": "code",
   "execution_count": null,
   "metadata": {
    "id": "EPD5IfBBgg51"
   },
   "outputs": [],
   "source": [
    "gensim_en = FastText.load_fasttext_format('cc.en.300.bin')"
   ]
  },
  {
   "cell_type": "code",
   "execution_count": null,
   "metadata": {
    "id": "2Hy1hFxSmj1t"
   },
   "outputs": [],
   "source": [
    "weight_matrix_en = torch.zeros((3274, gensim_en.vector_size))\n",
    "missing_words_en = []\n",
    "\n",
    "for i in range(3274):\n",
    "    try:\n",
    "    weight_matrix_en[i] = torch.FloatTensor(gensim_en[TRG.vocab.itos[i]])\n",
    "    except KeyError:\n",
    "    weight_matrix_en[i] = torch.randn(gensim_en.vector_size)\n",
    "    missing_words_en.append(TRG.vocab.itos[i])"
   ]
  },
  {
   "cell_type": "code",
   "execution_count": null,
   "metadata": {
    "colab": {
     "base_uri": "https://localhost:8080/"
    },
    "id": "diNyNX1Ug1LQ",
    "outputId": "19b606aa-4dfe-4720-fb61-724e8ae9278b"
   },
   "outputs": [
    {
     "data": {
      "text/plain": [
       "['\".', '.\"', '\",', '!\"']"
      ]
     },
     "execution_count": 18,
     "metadata": {
      "tags": []
     },
     "output_type": "execute_result"
    }
   ],
   "source": [
    "missing_words_en"
   ]
  },
  {
   "cell_type": "code",
   "execution_count": null,
   "metadata": {
    "id": "oHIGRPhpmqcz"
   },
   "outputs": [],
   "source": [
    "with open('weight_matrix_en.pkl', \"wb\") as output_file:\n",
    "    pickle.dump(weight_matrix_en, output_file)"
   ]
  },
  {
   "cell_type": "markdown",
   "metadata": {
    "id": "Zv80HYX3g0Bq"
   },
   "source": [
    "\n",
    "\n",
    "---\n",
    "\n",
    "\n",
    "\n",
    "---\n",
    "\n"
   ]
  },
  {
   "cell_type": "code",
   "execution_count": null,
   "metadata": {
    "id": "M6SpZAk_r71d"
   },
   "outputs": [],
   "source": [
    "with open('weight_matrix_en.pkl', 'rb') as file:\n",
    "    weight_matrix_en = pickle.load(file)\n",
    "with open('weight_matrix_de.pkl', 'rb') as file:\n",
    "    weight_matrix_de = pickle.load(file)"
   ]
  },
  {
   "cell_type": "code",
   "execution_count": null,
   "metadata": {
    "id": "4bEn56r-7rjO"
   },
   "outputs": [],
   "source": [
    "class EncoderPretrained(nn.Module):\n",
    "    def __init__(self, input_dim, hid_dim, n_layers, dropout, pretrained_weight):\n",
    "        super().__init__()\n",
    "        \n",
    "        self.input_dim = input_dim\n",
    "        self.hid_dim = hid_dim\n",
    "        self.n_layers = n_layers\n",
    "#         self.dropout = dropout\n",
    "        \n",
    "        self.embedding = nn.Embedding.from_pretrained(pretrained_weight)\n",
    "        self.embedding.requires_grad_(False)\n",
    "        self.emb_dim = self.embedding.embedding_dim\n",
    "\n",
    "        self.rnn = nn.LSTM(\n",
    "            input_size=self.emb_dim,\n",
    "            hidden_size=hid_dim,\n",
    "            num_layers=n_layers,\n",
    "            dropout=dropout\n",
    "        )\n",
    "            # <YOUR CODE HERE>\n",
    "        \n",
    "        self.dropout = nn.Dropout(p=dropout)# <YOUR CODE HERE>\n",
    "        \n",
    "    def forward(self, src):\n",
    "        \n",
    "        #src = [src sent len, batch size]\n",
    "        \n",
    "        # Compute an embedding from the src data and apply dropout to it\n",
    "        embedded = self.embedding(src)# <YOUR CODE HERE>\n",
    "        \n",
    "        embedded = self.dropout(embedded)\n",
    "        \n",
    "        output, (hidden, cell) = self.rnn(embedded)\n",
    "        #embedded = [src sent len, batch size, emb dim]\n",
    "        \n",
    "        # Compute the RNN output values of the encoder RNN. \n",
    "        # outputs, hidden and cell should be initialized here. Refer to nn.LSTM docs ;)\n",
    "        \n",
    "        # <YOUR CODE HERE> \n",
    "        \n",
    "        #outputs = [src sent len, batch size, hid dim * n directions]\n",
    "        #hidden = [n layers * n directions, batch size, hid dim]\n",
    "        #cell = [n layers * n directions, batch size, hid dim]\n",
    "        \n",
    "        #outputs are always from the top hidden layer\n",
    "        \n",
    "        return hidden, cell\n",
    "    \n",
    "\n",
    "class DecoderPretrained(nn.Module):\n",
    "    def __init__(self, output_dim, hid_dim, n_layers, dropout, pretrained_weight):\n",
    "        super().__init__()\n",
    "\n",
    "        self.hid_dim = hid_dim\n",
    "        self.output_dim = output_dim\n",
    "        self.n_layers = n_layers\n",
    "        self.dropout = dropout\n",
    "        \n",
    "        self.embedding = nn.Embedding.from_pretrained(pretrained_weight)\n",
    "        self.embedding.requires_grad_(False)\n",
    "        self.emb_dim = self.embedding.embedding_dim\n",
    "        \n",
    "        self.rnn = nn.LSTM(\n",
    "            input_size=self.emb_dim,\n",
    "            hidden_size=hid_dim,\n",
    "            num_layers=n_layers,\n",
    "            dropout=dropout\n",
    "        )\n",
    "            # <YOUR CODE HERE>\n",
    "        \n",
    "        self.out = nn.Linear(\n",
    "            in_features=hid_dim,\n",
    "            out_features=output_dim\n",
    "        )\n",
    "            # <YOUR CODE HERE>\n",
    "        \n",
    "        self.dropout = nn.Dropout(p=dropout)# <YOUR CODE HERE>\n",
    "        \n",
    "    def forward(self, input, hidden, cell):\n",
    "        \n",
    "        #input = [batch size]\n",
    "        #hidden = [n layers * n directions, batch size, hid dim]\n",
    "        #cell = [n layers * n directions, batch size, hid dim]\n",
    "        \n",
    "        #n directions in the decoder will both always be 1, therefore:\n",
    "        #hidden = [n layers, batch size, hid dim]\n",
    "        #context = [n layers, batch size, hid dim]\n",
    "        \n",
    "        input = input.unsqueeze(0)\n",
    "        \n",
    "        #input = [1, batch size]\n",
    "        \n",
    "        # Compute an embedding from the input data and apply dropout to it\n",
    "        embedded = self.dropout(self.embedding(input))# <YOUR CODE HERE>\n",
    "        \n",
    "        #embedded = [1, batch size, emb dim]\n",
    "        \n",
    "        # Compute the RNN output values of the encoder RNN. \n",
    "        # outputs, hidden and cell should be initialized here. Refer to nn.LSTM docs ;)\n",
    "        # <YOUR CODE HERE>\n",
    "        \n",
    "        \n",
    "        #output = [sent len, batch size, hid dim * n directions]\n",
    "        #hidden = [n layers * n directions, batch size, hid dim]\n",
    "        #cell = [n layers * n directions, batch size, hid dim]\n",
    "        \n",
    "        #sent len and n directions will always be 1 in the decoder, therefore:\n",
    "        #output = [1, batch size, hid dim]\n",
    "        #hidden = [n layers, batch size, hid dim]\n",
    "        #cell = [n layers, batch size, hid dim]\n",
    "        \n",
    "        \n",
    "        output, (hidden, cell) = self.rnn(embedded, (hidden, cell))\n",
    "        prediction = self.out(output.squeeze(0))\n",
    "        \n",
    "        #prediction = [batch size, output dim]\n",
    "        \n",
    "        return prediction, hidden, cell"
   ]
  },
  {
   "cell_type": "markdown",
   "metadata": {
    "id": "22NGbf20tE2S"
   },
   "source": [
    "Initialize model:"
   ]
  },
  {
   "cell_type": "code",
   "execution_count": null,
   "metadata": {
    "id": "hsTPu0mfrc-E"
   },
   "outputs": [],
   "source": [
    "enc = EncoderPretrained(INPUT_DIM, HID_DIM, N_LAYERS, ENC_DROPOUT, weight_matrix_de)\n",
    "dec = DecoderPretrained(OUTPUT_DIM, HID_DIM, N_LAYERS, DEC_DROPOUT, weight_matrix_en)\n",
    "model_pretrained = Seq2Seq(enc, dec, device).to(device)"
   ]
  },
  {
   "cell_type": "code",
   "execution_count": null,
   "metadata": {
    "id": "VQipgw0rtA77"
   },
   "outputs": [],
   "source": [
    "optimizer = optim.Adam(model_pretrained.parameters())\n",
    "criterion = nn.CrossEntropyLoss(ignore_index = PAD_IDX)"
   ]
  },
  {
   "cell_type": "code",
   "execution_count": null,
   "metadata": {
    "id": "N5bz-x9-tA79"
   },
   "outputs": [],
   "source": [
    "train_history_pretrained = []\n",
    "valid_history_pretrained = []\n",
    "\n",
    "N_EPOCHS = 60\n",
    "CLIP = 1\n",
    "\n",
    "best_valid_BLEU = 0"
   ]
  },
  {
   "cell_type": "markdown",
   "metadata": {
    "id": "eOTHDUMatGA4"
   },
   "source": [
    "Train model:\n"
   ]
  },
  {
   "cell_type": "code",
   "execution_count": null,
   "metadata": {
    "colab": {
     "base_uri": "https://localhost:8080/",
     "height": 565
    },
    "id": "fLhAirNztA79",
    "outputId": "aa5f4b64-0836-4b21-86d7-d9473c76de18"
   },
   "outputs": [
    {
     "data": {
      "image/png": "[encoded data removed]",
      "text/plain": [
       "<Figure size 864x576 with 2 Axes>"
      ]
     },
     "metadata": {
      "needs_background": "light",
      "tags": []
     },
     "output_type": "display_data"
    },
    {
     "name": "stdout",
     "output_type": "stream",
     "text": [
      "Epoch: 60 | Time: 0m 29s\n",
      "\tTrain Loss: 1.761 | Train PPL:   5.818\n",
      "\t Val. BLEU: 19.145 |  Val. PPL: 206373987.442\n"
     ]
    }
   ],
   "source": [
    "for epoch in range(N_EPOCHS):\n",
    "    \n",
    "    start_time = time.time()\n",
    "    \n",
    "    train_loss = train(model_pretrained, train_iterator, optimizer, criterion, CLIP, train_history_pretrained, valid_history_pretrained)\n",
    "    valid_BLEU = evaluateBLEU(model_pretrained, valid_iterator)\n",
    "    \n",
    "    end_time = time.time()\n",
    "    \n",
    "    epoch_mins, epoch_secs = epoch_time(start_time, end_time)\n",
    "    \n",
    "    if valid_BLEU > best_valid_BLEU:\n",
    "        best_valid_BLEU = valid_BLEU\n",
    "        torch.save(model_pretrained.state_dict(), 'model-pretrained.pt')\n",
    "    \n",
    "    train_history_pretrained.append(train_loss)\n",
    "    valid_history_pretrained.append(valid_BLEU)\n",
    "    print(f'Epoch: {epoch+1:02} | Time: {epoch_mins}m {epoch_secs}s')\n",
    "    print(f'\\tTrain Loss: {train_loss:.3f} | Train PPL: {math.exp(train_loss):7.3f}')\n",
    "    print(f'\\t Val. BLEU: {valid_BLEU:.3f} |  Val. PPL: {math.exp(valid_BLEU):7.3f}')"
   ]
  },
  {
   "cell_type": "code",
   "execution_count": null,
   "metadata": {
    "id": "Om9RTyKmXtt8"
   },
   "outputs": [],
   "source": [
    "with open('train_history_pretrained.pkl', \"wb\") as output_file:\n",
    "    pickle.dump(train_history_pretrained, output_file)\n",
    "with open('valid_history_pretrained.pkl', \"wb\") as output_file:\n",
    "    pickle.dump(valid_history_pretrained, output_file)"
   ]
  },
  {
   "cell_type": "markdown",
   "metadata": {
    "id": "aWAFoSletA7-"
   },
   "source": [
    "### Evaluate the model:"
   ]
  },
  {
   "cell_type": "code",
   "execution_count": null,
   "metadata": {
    "colab": {
     "base_uri": "https://localhost:8080/"
    },
    "id": "I_qCa0la08EV",
    "outputId": "9a2dd1e5-8695-4689-8791-c1d2cf6cb571"
   },
   "outputs": [
    {
     "data": {
      "text/plain": [
       "<All keys matched successfully>"
      ]
     },
     "execution_count": 118,
     "metadata": {
      "tags": []
     },
     "output_type": "execute_result"
    }
   ],
   "source": [
    "model_pretrained.load_state_dict(torch.load('model-pretrained.pt'))"
   ]
  },
  {
   "cell_type": "code",
   "execution_count": null,
   "metadata": {
    "colab": {
     "base_uri": "https://localhost:8080/"
    },
    "id": "pwtILJmOBBWi",
    "outputId": "2c62bdeb-a061-451d-9c68-c11d24aa1c06"
   },
   "outputs": [
    {
     "name": "stderr",
     "output_type": "stream",
     "text": [
      "4it [00:00, 14.88it/s]\n"
     ]
    }
   ],
   "source": [
    "original_text = []\n",
    "generated_text = []\n",
    "model_pretrained.eval()\n",
    "with torch.no_grad():\n",
    "\n",
    "    for i, batch in tqdm.tqdm(enumerate(test_iterator)):\n",
    "\n",
    "        src = batch.src\n",
    "        trg = batch.trg\n",
    "\n",
    "        output = model_pretrained(src, trg, 0) #turn off teacher forcing\n",
    "\n",
    "        #trg = [trg sent len, batch size]\n",
    "        #output = [trg sent len, batch size, output dim]\n",
    "\n",
    "        output = output.argmax(dim=-1)\n",
    "        \n",
    "        original_text.extend([get_text(x, TRG.vocab) for x in trg.cpu().numpy().T])\n",
    "        generated_text.extend([get_text(x, TRG.vocab) for x in output[1:].detach().cpu().numpy().T])\n",
    "\n",
    "# original_text = flatten(original_text)\n",
    "# generated_text = flatten(generated_text)"
   ]
  },
  {
   "cell_type": "code",
   "execution_count": null,
   "metadata": {
    "colab": {
     "base_uri": "https://localhost:8080/"
    },
    "id": "lNmSuQpOtA7-",
    "outputId": "124371d9-a455-4ff6-b3bd-adf14cad94f6"
   },
   "outputs": [
    {
     "data": {
      "text/plain": [
       "18.171111159218466"
      ]
     },
     "execution_count": 120,
     "metadata": {
      "tags": []
     },
     "output_type": "execute_result"
    }
   ],
   "source": [
    "corpus_bleu([[text] for text in original_text], generated_text) * 100"
   ]
  },
  {
   "cell_type": "markdown",
   "metadata": {
    "id": "8eqPw5Z3G74V"
   },
   "source": [
    "## Summary of the experiments:\n",
    "\n",
    "Validation BLEU:"
   ]
  },
  {
   "cell_type": "code",
   "execution_count": null,
   "metadata": {
    "colab": {
     "base_uri": "https://localhost:8080/",
     "height": 516
    },
    "id": "0JfYP3ln5Rt9",
    "outputId": "68ef13cd-3cb5-47f6-d1ab-e41c38375b99"
   },
   "outputs": [
    {
     "data": {
      "text/plain": [
       "<matplotlib.legend.Legend at 0x7fa9f8fdc710>"
      ]
     },
     "execution_count": 130,
     "metadata": {
      "tags": []
     },
     "output_type": "execute_result"
    },
    {
     "data": {
      "image/png": "[encoded data removed]",
      "text/plain": [
       "<Figure size 576x576 with 1 Axes>"
      ]
     },
     "metadata": {
      "needs_background": "light",
      "tags": []
     },
     "output_type": "display_data"
    }
   ],
   "source": [
    "fig, ax = plt.subplots(nrows=1, ncols=1, figsize=(8, 8))\n",
    "ax.plot(valid_history_baseline, label='baseline')\n",
    "ax.plot(valid_history_cnn, label='CNN encoder')\n",
    "ax.plot(valid_history_pretrained, label='pretrained embedding')\n",
    "ax.plot(valid_history_lr_decay_2, label='small LR decay')\n",
    "ax.set_title('Validation BLEU score')\n",
    "plt.legend()"
   ]
  },
  {
   "cell_type": "markdown",
   "metadata": {
    "id": "iCwjc9JZpjQ4"
   },
   "source": [
    "BLEU score summary:"
   ]
  },
  {
   "cell_type": "markdown",
   "metadata": {
    "id": "jtEOFqOBphFW"
   },
   "source": [
    "| Model                      | BLEU score |\n",
    "|----------------------------|------------|\n",
    "| Baseline                   | 23.23      |\n",
    "| learning rate decay        | 22.32      |\n",
    "| CNN encoder                | 26.44      |\n",
    "| pre-trained word embedding | 18.17      |"
   ]
  },
  {
   "cell_type": "markdown",
   "metadata": {
    "id": "ee7rcLdjoSDf"
   },
   "source": [
    "Among all the methods implemented, the model with CNN encoder performed the best with an OK-ish score of 26.44. I believe with further experiments, there is still room for improvement:\n",
    "\n",
    "\n",
    "*   Fine-tuning CNN architecture\n",
    "*   Increase traning epochs, and apply learning rate decay at around epoch 50th\n",
    "*   Fine-tune learning rate\n",
    "*   Experiment with different optimizers, and learning rate decay methods.\n",
    "\n",
    "Other options which may be implemented to improve the translation quality:\n",
    "* Attention/self-attention mechanism\n",
    "* Pretraining the language model\n",
    "* Byte Pair Encoding\n",
    "* Fine-tunning BERT\n"
   ]
  }
 ],
 "metadata": {
  "accelerator": "GPU",
  "anaconda-cloud": {},
  "colab": {
   "collapsed_sections": [],
   "machine_shape": "hm",
   "name": "Duc_Pham_Lab1.ipynb",
   "provenance": []
  },
  "kernelspec": {
   "display_name": "NMT-DLiA",
   "language": "python",
   "name": "nmt-dlia"
  },
  "language_info": {
   "codemirror_mode": {
    "name": "ipython",
    "version": 3
   },
   "file_extension": ".py",
   "mimetype": "text/x-python",
   "name": "python",
   "nbconvert_exporter": "python",
   "pygments_lexer": "ipython3",
   "version": "3.9.6"
  }
 },
 "nbformat": 4,
 "nbformat_minor": 1
}
